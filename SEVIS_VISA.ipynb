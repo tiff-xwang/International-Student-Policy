{
 "cells": [
  {
   "cell_type": "code",
   "execution_count": 13,
   "id": "a23d0d2e-db85-43d7-b2d3-2bb98122f033",
   "metadata": {},
   "outputs": [],
   "source": [
    "%load_ext rpy2.ipython\n",
    "%load_ext autoreload\n",
    "%autoreload 2\n",
    "\n",
    "%matplotlib inline  \n",
    "from matplotlib import rcParams\n",
    "rcParams['figure.figsize'] = (16, 100)\n",
    "\n",
    "import warnings\n",
    "from rpy2.rinterface import RRuntimeWarning\n",
    "warnings.filterwarnings(\"ignore\") # Ignore all warnings\n",
    "# warnings.filterwarnings(\"ignore\", category=RRuntimeWarning) # Show some warnings\n",
    "\n",
    "import pandas as pd\n",
    "import numpy as np\n",
    "import matplotlib.pyplot as plt\n",
    "from IPython.display import display, HTML"
   ]
  },
  {
   "cell_type": "code",
   "execution_count": 14,
   "id": "c3a5d1ad-4a53-469d-bb42-4c22f23e1339",
   "metadata": {},
   "outputs": [
    {
     "data": {
      "application/javascript": [
       "// Disable auto-scrolling\n",
       "IPython.OutputArea.prototype._should_scroll = function(lines) {\n",
       "    return false;\n",
       "}\n"
      ],
      "text/plain": [
       "<IPython.core.display.Javascript object>"
      ]
     },
     "metadata": {},
     "output_type": "display_data"
    }
   ],
   "source": [
    "%%javascript\n",
    "// Disable auto-scrolling\n",
    "IPython.OutputArea.prototype._should_scroll = function(lines) {\n",
    "    return false;\n",
    "}"
   ]
  },
  {
   "cell_type": "code",
   "execution_count": 15,
   "id": "8632f03c-ac20-463e-96f5-75d81a493a11",
   "metadata": {},
   "outputs": [
    {
     "name": "stdout",
     "output_type": "stream",
     "text": [
      "── Attaching core tidyverse packages ──────────────────────── tidyverse 2.0.0 ──\n",
      "✔ dplyr     1.1.4     ✔ readr     2.1.5\n",
      "✔ forcats   1.0.0     ✔ stringr   1.5.1\n",
      "✔ ggplot2   3.5.1     ✔ tibble    3.2.1\n",
      "✔ lubridate 1.9.4     ✔ tidyr     1.3.1\n",
      "✔ purrr     1.0.2     \n",
      "── Conflicts ────────────────────────────────────────── tidyverse_conflicts() ──\n",
      "✖ dplyr::filter() masks stats::filter()\n",
      "✖ dplyr::lag()    masks stats::lag()\n",
      "ℹ Use the conflicted package (<http://conflicted.r-lib.org/>) to force all conflicts to become errors\n"
     ]
    },
    {
     "data": {
      "text/plain": [
       "Loading required package: tidyverse\n"
      ]
     },
     "metadata": {},
     "output_type": "display_data"
    }
   ],
   "source": [
    "%%R\n",
    "\n",
    "require(tidyverse)"
   ]
  },
  {
   "cell_type": "code",
   "execution_count": 8,
   "id": "a360a547-60f7-4322-83ea-fdef3568b1f8",
   "metadata": {},
   "outputs": [],
   "source": [
    "survey = pd.read_excel('docs/Survey-April-12-2025.xlsx')"
   ]
  },
  {
   "cell_type": "code",
   "execution_count": 9,
   "id": "48666c89-f535-4217-83b0-84858232011f",
   "metadata": {},
   "outputs": [],
   "source": [
    "survey = survey.rename(columns={'How anxious do you feel about the latest developments associated with immigration enforcement in the US?': 'anxiety'})"
   ]
  },
  {
   "cell_type": "code",
   "execution_count": 12,
   "id": "53c1dcc2-0c84-49a4-90a4-433c286cdd1b",
   "metadata": {},
   "outputs": [
    {
     "data": {
      "text/plain": [
       "anxiety\n",
       "10.0    68\n",
       "9.0     18\n",
       "8.0     11\n",
       "5.0      5\n",
       "6.0      4\n",
       "7.0      4\n",
       "3.0      2\n",
       "1.0      1\n",
       "Name: count, dtype: int64"
      ]
     },
     "execution_count": 12,
     "metadata": {},
     "output_type": "execute_result"
    }
   ],
   "source": [
    "survey['anxiety'].value_counts()"
   ]
  },
  {
   "cell_type": "markdown",
   "id": "258cd34b-5f58-4415-9e5e-9ee0a7d5ac05",
   "metadata": {},
   "source": [
    "#### Pivoting long for visualization"
   ]
  },
  {
   "cell_type": "code",
   "execution_count": 26,
   "id": "4e6ef6c6-2cec-4c51-9b0f-e90749cc5f47",
   "metadata": {},
   "outputs": [],
   "source": [
    "%%R -i survey -o survey_long\n",
    "\n",
    "survey_long <- survey %>% \n",
    "    select(anxiety) %>%\n",
    "    filter(!is.na(anxiety)) %>%\n",
    "    pivot_longer(cols= everything(), names_to='variable', values_to='value')"
   ]
  },
  {
   "cell_type": "code",
   "execution_count": 27,
   "id": "ad776a26-592b-4aad-a8d3-7aba7f555cb5",
   "metadata": {},
   "outputs": [],
   "source": [
    "survey_long.to_csv('docs/survey_long.csv', index=False)"
   ]
  },
  {
   "cell_type": "code",
   "execution_count": 30,
   "id": "436f02dc-0b0f-4a09-8912-7aa7fe2dc1d4",
   "metadata": {},
   "outputs": [
    {
     "data": {
      "text/plain": [
       "113"
      ]
     },
     "execution_count": 30,
     "metadata": {},
     "output_type": "execute_result"
    }
   ],
   "source": [
    "len(survey_long)"
   ]
  },
  {
   "cell_type": "markdown",
   "id": "9a2744c7-d0a0-4043-9689-ef4fb16e6b25",
   "metadata": {},
   "source": [
    "#### How many of those feeling super anxious had their SEVIS terminated?"
   ]
  },
  {
   "cell_type": "code",
   "execution_count": 35,
   "id": "4ec706c1-d61b-4744-a112-7fdda675bf23",
   "metadata": {},
   "outputs": [
    {
     "data": {
      "text/plain": [
       "Was your SEVIS revoked?\n",
       "No     75\n",
       "Yes    22\n",
       "Name: count, dtype: int64"
      ]
     },
     "execution_count": 35,
     "metadata": {},
     "output_type": "execute_result"
    }
   ],
   "source": [
    "survey[survey['anxiety'].isin([10.0, 9.0, 8.0])]['Was your SEVIS revoked?'].value_counts()"
   ]
  },
  {
   "cell_type": "markdown",
   "id": "4b74646a-7f8d-4ece-ba9a-f250dc3f6216",
   "metadata": {},
   "source": [
    "#### Difficulty to find a lawyer"
   ]
  },
  {
   "cell_type": "code",
   "execution_count": 36,
   "id": "ddbe7535-7997-4daf-82ec-02949a297bc0",
   "metadata": {},
   "outputs": [
    {
     "data": {
      "text/plain": [
       "How easy has it been to find a lawyer?\n",
       "5.0     25\n",
       "10.0    17\n",
       "8.0     17\n",
       "7.0     12\n",
       "6.0      9\n",
       "9.0      5\n",
       "2.0      4\n",
       "4.0      4\n",
       "3.0      4\n",
       "1.0      3\n",
       "Name: count, dtype: int64"
      ]
     },
     "execution_count": 36,
     "metadata": {},
     "output_type": "execute_result"
    }
   ],
   "source": [
    "survey['How easy has it been to find a lawyer?'].value_counts()"
   ]
  },
  {
   "cell_type": "code",
   "execution_count": null,
   "id": "c07d894b-db7f-447c-adc3-c46c424c4d9c",
   "metadata": {},
   "outputs": [],
   "source": []
  }
 ],
 "metadata": {
  "kernelspec": {
   "display_name": "Python 3 (ipykernel)",
   "language": "python",
   "name": "python3"
  },
  "language_info": {
   "codemirror_mode": {
    "name": "ipython",
    "version": 3
   },
   "file_extension": ".py",
   "mimetype": "text/x-python",
   "name": "python",
   "nbconvert_exporter": "python",
   "pygments_lexer": "ipython3",
   "version": "3.12.7"
  }
 },
 "nbformat": 4,
 "nbformat_minor": 5
}
